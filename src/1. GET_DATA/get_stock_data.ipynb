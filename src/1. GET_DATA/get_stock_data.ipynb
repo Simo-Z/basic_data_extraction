{
 "cells": [
  {
   "cell_type": "code",
   "execution_count": 1,
   "metadata": {},
   "outputs": [
    {
     "data": {
      "text/plain": [
       "True"
      ]
     },
     "execution_count": 1,
     "metadata": {},
     "output_type": "execute_result"
    }
   ],
   "source": [
    "import os\n",
    "import requests\n",
    "import polars as pl\n",
    "from dotenv import load_dotenv\n",
    "load_dotenv()"
   ]
  },
  {
   "cell_type": "code",
   "execution_count": 2,
   "metadata": {},
   "outputs": [],
   "source": [
    "API_KEY = os.getenv(\"ALPHA_VANTAGE_API_KEY\")\n",
    "BASE_URL = \"https://www.alphavantage.co/query\"\n",
    "\n",
    "symbol = \"AAPL\"  # Apple Inc. (Symbol)\n",
    "function = \"TIME_SERIES_DAILY\"\n",
    "params = {\"function\": function, \"symbol\": symbol, \"apikey\": API_KEY, \"datatype\": \"json\"}\n",
    "response = requests.get(BASE_URL, params=params)\n",
    "\n",
    "if response.status_code == 200:\n",
    "    data = response.json()\n",
    "else:\n",
    "    print(f\"Fehler beim Abrufen der Daten: {response.status_code}\")\n",
    "    exit()"
   ]
  },
  {
   "cell_type": "code",
   "execution_count": 3,
   "metadata": {},
   "outputs": [],
   "source": [
    "try:\n",
    "    time_series = data[\"Time Series (Daily)\"]\n",
    "except KeyError:\n",
    "    print(\"Fehler: Die API-Antwort enthält keine Zeitseriendaten.\")\n",
    "    exit()"
   ]
  },
  {
   "cell_type": "code",
   "execution_count": 4,
   "metadata": {},
   "outputs": [],
   "source": [
    "data_list = []\n",
    "for date, values in time_series.items():\n",
    "    data_list.append({\n",
    "        \"Date\": date,\n",
    "        \"Open\": float(values[\"1. open\"]),\n",
    "        \"High\": float(values[\"2. high\"]),\n",
    "        \"Low\": float(values[\"3. low\"]),\n",
    "        \"Close\": float(values[\"4. close\"]),\n",
    "        \"Volume\": int(values[\"5. volume\"])\n",
    "    })"
   ]
  },
  {
   "cell_type": "code",
   "execution_count": 5,
   "metadata": {},
   "outputs": [
    {
     "data": {
      "text/html": [
       "<div><style>\n",
       ".dataframe > thead > tr,\n",
       ".dataframe > tbody > tr {\n",
       "  text-align: right;\n",
       "  white-space: pre-wrap;\n",
       "}\n",
       "</style>\n",
       "<small>shape: (100, 6)</small><table border=\"1\" class=\"dataframe\"><thead><tr><th>Date</th><th>Open</th><th>High</th><th>Low</th><th>Close</th><th>Volume</th></tr><tr><td>str</td><td>f64</td><td>f64</td><td>f64</td><td>f64</td><td>i64</td></tr></thead><tbody><tr><td>&quot;2025-01-03&quot;</td><td>243.36</td><td>244.18</td><td>241.89</td><td>243.36</td><td>40244114</td></tr><tr><td>&quot;2025-01-02&quot;</td><td>248.93</td><td>249.1</td><td>241.8201</td><td>243.85</td><td>55740731</td></tr><tr><td>&quot;2024-12-31&quot;</td><td>252.44</td><td>253.28</td><td>249.43</td><td>250.42</td><td>39480718</td></tr><tr><td>&quot;2024-12-30&quot;</td><td>252.23</td><td>253.5</td><td>250.75</td><td>252.2</td><td>35557542</td></tr><tr><td>&quot;2024-12-27&quot;</td><td>257.83</td><td>258.7</td><td>253.06</td><td>255.59</td><td>42355321</td></tr><tr><td>&hellip;</td><td>&hellip;</td><td>&hellip;</td><td>&hellip;</td><td>&hellip;</td><td>&hellip;</td></tr><tr><td>&quot;2024-08-19&quot;</td><td>225.72</td><td>225.99</td><td>223.04</td><td>225.89</td><td>40687813</td></tr><tr><td>&quot;2024-08-16&quot;</td><td>223.92</td><td>226.8271</td><td>223.6501</td><td>226.05</td><td>44340240</td></tr><tr><td>&quot;2024-08-15&quot;</td><td>224.6</td><td>225.35</td><td>222.76</td><td>224.72</td><td>46414013</td></tr><tr><td>&quot;2024-08-14&quot;</td><td>220.57</td><td>223.03</td><td>219.7</td><td>221.72</td><td>41960574</td></tr><tr><td>&quot;2024-08-13&quot;</td><td>219.01</td><td>221.89</td><td>219.01</td><td>221.27</td><td>44155331</td></tr></tbody></table></div>"
      ],
      "text/plain": [
       "shape: (100, 6)\n",
       "┌────────────┬────────┬──────────┬──────────┬────────┬──────────┐\n",
       "│ Date       ┆ Open   ┆ High     ┆ Low      ┆ Close  ┆ Volume   │\n",
       "│ ---        ┆ ---    ┆ ---      ┆ ---      ┆ ---    ┆ ---      │\n",
       "│ str        ┆ f64    ┆ f64      ┆ f64      ┆ f64    ┆ i64      │\n",
       "╞════════════╪════════╪══════════╪══════════╪════════╪══════════╡\n",
       "│ 2025-01-03 ┆ 243.36 ┆ 244.18   ┆ 241.89   ┆ 243.36 ┆ 40244114 │\n",
       "│ 2025-01-02 ┆ 248.93 ┆ 249.1    ┆ 241.8201 ┆ 243.85 ┆ 55740731 │\n",
       "│ 2024-12-31 ┆ 252.44 ┆ 253.28   ┆ 249.43   ┆ 250.42 ┆ 39480718 │\n",
       "│ 2024-12-30 ┆ 252.23 ┆ 253.5    ┆ 250.75   ┆ 252.2  ┆ 35557542 │\n",
       "│ 2024-12-27 ┆ 257.83 ┆ 258.7    ┆ 253.06   ┆ 255.59 ┆ 42355321 │\n",
       "│ …          ┆ …      ┆ …        ┆ …        ┆ …      ┆ …        │\n",
       "│ 2024-08-19 ┆ 225.72 ┆ 225.99   ┆ 223.04   ┆ 225.89 ┆ 40687813 │\n",
       "│ 2024-08-16 ┆ 223.92 ┆ 226.8271 ┆ 223.6501 ┆ 226.05 ┆ 44340240 │\n",
       "│ 2024-08-15 ┆ 224.6  ┆ 225.35   ┆ 222.76   ┆ 224.72 ┆ 46414013 │\n",
       "│ 2024-08-14 ┆ 220.57 ┆ 223.03   ┆ 219.7    ┆ 221.72 ┆ 41960574 │\n",
       "│ 2024-08-13 ┆ 219.01 ┆ 221.89   ┆ 219.01   ┆ 221.27 ┆ 44155331 │\n",
       "└────────────┴────────┴──────────┴──────────┴────────┴──────────┘"
      ]
     },
     "execution_count": 5,
     "metadata": {},
     "output_type": "execute_result"
    }
   ],
   "source": [
    "raw_data = pl.DataFrame(data_list)\n",
    "raw_data"
   ]
  },
  {
   "cell_type": "code",
   "execution_count": 6,
   "metadata": {},
   "outputs": [],
   "source": [
    "file_path = \"../../data/raw/raw_stock_data.csv\"\n",
    "raw_data.write_csv(file_path)"
   ]
  },
  {
   "cell_type": "code",
   "execution_count": null,
   "metadata": {},
   "outputs": [],
   "source": []
  }
 ],
 "metadata": {
  "kernelspec": {
   "display_name": "basic_data_extraction-dJPjUFIz",
   "language": "python",
   "name": "python3"
  },
  "language_info": {
   "codemirror_mode": {
    "name": "ipython",
    "version": 3
   },
   "file_extension": ".py",
   "mimetype": "text/x-python",
   "name": "python",
   "nbconvert_exporter": "python",
   "pygments_lexer": "ipython3",
   "version": "3.13.1"
  }
 },
 "nbformat": 4,
 "nbformat_minor": 2
}
